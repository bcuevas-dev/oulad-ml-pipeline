{
 "cells": [
  {
   "cell_type": "markdown",
   "id": "f9a16fa6",
   "metadata": {},
   "source": [
    "## Ejecución del pipeline OULAD (versión robusta y eficiente)\n",
    "\n",
    "Puedes ejecutar el pipeline completo desde terminal o desde una celda de Jupyter/Colab:\n",
    "\n",
    "```python\n",
    "python ../src/oulad_pipeline.py --max_rows 20000\n",
    "```\n",
    "\n",
    "- El parámetro `--max_rows` permite trabajar con un subconjunto aleatorio del dataset para pruebas rápidas.\n",
    "- Todos los resultados se guardan en la carpeta `results/`.\n"
   ]
  },
  {
   "cell_type": "code",
   "execution_count": null,
   "id": "6d8cf664",
   "metadata": {},
   "outputs": [],
   "source": [
    "# Importar librerías necesarias y módulos del pipeline\n",
    "import pandas as pd\n",
    "import numpy as np\n",
    "import matplotlib.pyplot as plt\n",
    "import seaborn as sns\n",
    "from tqdm import tqdm\n",
    "from sklearn import preprocessing\n",
    "from sklearn.model_selection import train_test_split\n",
    "from imblearn.over_sampling import SMOTE\n",
    "from imblearn.pipeline import Pipeline as imbpipeline\n",
    "from sklearn.preprocessing import StandardScaler\n",
    "from sklearn.metrics import confusion_matrix, f1_score, accuracy_score, precision_score, recall_score, mean_squared_error, r2_score\n",
    "from xgboost import XGBClassifier\n",
    "from sklearn.random_projection import GaussianRandomProjection, SparseRandomProjection\n",
    "import os\n",
    "import sys\n",
    "sys.path.append('../src')\n",
    "from src.oulad_pipeline import OULADDBConnector, OULADPreprocessor, OULADEDA, OULADModel, OULADInterpreter\n",
    "from src.db_queries import read_table\n"
   ]
  },
  {
   "cell_type": "markdown",
   "id": "f8b0ead4",
   "metadata": {},
   "source": [
    "## Cargar y preparar los datos OULAD\n",
    "\n",
    "En esta sección se cargan los datos desde la base de datos MySQL (o archivos CSV) y se realiza el join necesario para obtener la variable objetivo."
   ]
  },
  {
   "cell_type": "code",
   "execution_count": null,
   "id": "632d90ea",
   "metadata": {},
   "outputs": [],
   "source": [
    "# Cargar datos desde la base de datos MySQL y realizar join\n",
    "output_dir = '../results'\n",
    "db = OULADDBConnector()\n",
    "db.test_connection()\n",
    "df_vle = read_table('studentVle', db)\n",
    "df_info = read_table('studentInfo', db)\n",
    "df_merged = pd.merge(df_vle, df_info[['id_student', 'code_presentation', 'final_result']],\n",
    "                    on=['id_student', 'code_presentation'], how='inner')\n",
    "print(f'Registros tras el join: {len(df_merged):,}')\n",
    "df_merged.head()"
   ]
  },
  {
   "cell_type": "markdown",
   "id": "0e061544",
   "metadata": {},
   "source": [
    "## Limpieza y preprocesamiento de datos\n",
    "\n",
    "Se aplica la función `clean` de OULADPreprocessor para tratar nulos, duplicados y outliers."
   ]
  },
  {
   "cell_type": "code",
   "execution_count": null,
   "id": "b26d09ca",
   "metadata": {},
   "outputs": [],
   "source": [
    "# Limpieza y preprocesamiento de datos\n",
    "preprocessor = OULADPreprocessor()\n",
    "df_clean, num_vars = preprocessor.clean(df_merged)\n",
    "print('Variables numéricas:', num_vars)\n",
    "df_clean.head()"
   ]
  },
  {
   "cell_type": "markdown",
   "id": "7a8cb6cf",
   "metadata": {},
   "source": [
    "## Ingeniería de características\n",
    "\n",
    "Transformación y codificación de variables usando `feature_engineering` de OULADPreprocessor."
   ]
  },
  {
   "cell_type": "code",
   "execution_count": null,
   "id": "c9ec3f16",
   "metadata": {},
   "outputs": [],
   "source": [
    "# Ingeniería de características\n",
    "# rq=1 para clasificación binaria, ajusta según tu caso\n",
    "rq = 1\n",
    "df_feat = preprocessor.feature_engineering(df_clean, rq=rq)\n",
    "df_feat.head()"
   ]
  },
  {
   "cell_type": "markdown",
   "id": "2f06fec8",
   "metadata": {},
   "source": [
    "## Análisis Exploratorio de Datos (EDA)\n",
    "\n",
    "En esta sección se realiza un análisis exploratorio utilizando la clase `OULADEDA`. Se incluyen análisis univariados, bivariados, boxplots, correlación y kurtosis para comprender la distribución y relaciones de las variables."
   ]
  },
  {
   "cell_type": "code",
   "execution_count": null,
   "id": "c3965188",
   "metadata": {},
   "outputs": [],
   "source": [
    "# EDA: Análisis univariado, bivariado, boxplots, correlación y kurtosis\n",
    "from src.oulad_pipeline import OULADEDA\n",
    "\n",
    "df = preprocessor.df  # Usar el DataFrame preprocesado\n",
    "eda = OULADEDA(df)\n",
    "\n",
    "# Análisis univariado de variables numéricas\n",
    "eda.univariate_analysis(columns=['age_band', 'num_of_prev_attempts', 'studied_credits', 'final_result'])\n",
    "\n",
    "# Análisis bivariado entre variables relevantes\n",
    "eda.bivariate_analysis(x='age_band', y='final_result')\n",
    "\n",
    "# Boxplots para variables numéricas\n",
    "eda.boxplot(columns=['studied_credits', 'num_of_prev_attempts'])\n",
    "\n",
    "# Matriz de correlación\n",
    "eda.correlation_matrix()\n",
    "\n",
    "# Kurtosis de variables numéricas\n",
    "eda.kurtosis_analysis(columns=['studied_credits', 'num_of_prev_attempts'])"
   ]
  },
  {
   "cell_type": "markdown",
   "id": "6613ca8f",
   "metadata": {},
   "source": [
    "## Modelado Supervisado: Clasificación y Regresión\n",
    "\n",
    "En esta sección se ejemplifica el uso de la clase `OULADModel` para tareas de clasificación y regresión, incluyendo la exportación de métricas y visualización de resultados."
   ]
  },
  {
   "cell_type": "code",
   "execution_count": null,
   "id": "2cfa708e",
   "metadata": {},
   "outputs": [],
   "source": [
    "# Modelado supervisado: Clasificación y regresión\n",
    "modeler = OULADModel()\n",
    "# Definir variables predictoras y objetivo para clasificación\n",
    "y_class = df_feat['final_result']\n",
    "X_class = df_feat.drop(columns=['final_result'])\n",
    "# División de datos\n",
    "X_train, X_test, y_train, y_test = train_test_split(X_class, y_class, test_size=0.2, random_state=42, stratify=y_class)\n",
    "# Entrenamiento y predicción con RandomForest\n",
    "from imblearn.over_sampling import SMOTE\n",
    "from sklearn.ensemble import RandomForestClassifier\n",
    "from sklearn.pipeline import Pipeline\n",
    "from sklearn.preprocessing import StandardScaler\n",
    "pipe = Pipeline([\n",
    "    ('smote', SMOTE()),\n",
    "    ('scaler', StandardScaler()),\n",
    "    ('classifier', RandomForestClassifier(n_jobs=-1, random_state=42))\n",
    "])\n",
    "pipe.fit(X_train, y_train)\n",
    "y_pred = pipe.predict(X_test)\n",
    "# Interpretación y exportación de métricas\n",
    "interpreter = OULADInterpreter()\n",
    "cm, metrics = interpreter.export_metrics(y_test, y_pred, output_dir)\n",
    "interpreter.plot_confusion_matrix(y_test, y_pred, output_dir)\n",
    "interpreter.plot_feature_importances(pipe.named_steps['classifier'], X_class.columns, output_dir)\n",
    "print('Métricas y visualizaciones exportadas a la carpeta results/')"
   ]
  },
  {
   "cell_type": "markdown",
   "id": "35c94a66",
   "metadata": {},
   "source": [
    "## Modelado No Supervisado: Clustering y Visualización\n",
    "\n",
    "En esta sección se utiliza la funcionalidad de clustering del pipeline para agrupar estudiantes y visualizar los clusters resultantes."
   ]
  },
  {
   "cell_type": "code",
   "execution_count": null,
   "id": "e0d4b70d",
   "metadata": {},
   "outputs": [],
   "source": [
    "# Clustering y visualización de clusters\n",
    "# (Ejemplo con KMeans, se puede ajustar el número de clusters)\n",
    "from src.oulad_pipeline import OULADModel\n",
    "\n",
    "clustering = OULADModel(model_type='clustering', model_name='KMeans', n_clusters=3)\n",
    "clustering.train(X_class)  # Usar las mismas features que en clasificación\n",
    "labels = clustering.predict(X_class)\n",
    "clustering.plot_clusters(X_class, labels)\n",
    "clustering.export_cluster_assignments('results/cluster_assignments.csv')"
   ]
  },
  {
   "cell_type": "markdown",
   "id": "0322121f",
   "metadata": {},
   "source": [
    "## Búsqueda de Hiperparámetros y Reducción de Dimensionalidad\n",
    "\n",
    "En esta sección se ejemplifica la búsqueda de hiperparámetros (grid search) para RandomForest/XGBoost y la reducción de dimensionalidad mediante proyección aleatoria, incluyendo visualización e interpretación de resultados."
   ]
  },
  {
   "cell_type": "code",
   "execution_count": null,
   "id": "026bf7a5",
   "metadata": {},
   "outputs": [],
   "source": [
    "# Grid search de hiperparámetros y reducción de dimensionalidad\n",
    "from src.oulad_pipeline import OULADModel\n",
    "\n",
    "# Grid search para RandomForest\n",
    "param_grid_rf = {'n_estimators': [50, 100], 'max_depth': [5, 10]}\n",
    "clf_rf = OULADModel(model_type='classification', model_name='RandomForest')\n",
    "gs_results_rf = clf_rf.grid_search(X_class, y_class, param_grid=param_grid_rf)\n",
    "print('Mejores parámetros RF:', gs_results_rf['best_params'])\n",
    "\n",
    "# Grid search para XGBoost\n",
    "param_grid_xgb = {'n_estimators': [50, 100], 'max_depth': [3, 6]}\n",
    "clf_xgb = OULADModel(model_type='classification', model_name='XGBoost')\n",
    "gs_results_xgb = clf_xgb.grid_search(X_class, y_class, param_grid=param_grid_xgb)\n",
    "print('Mejores parámetros XGBoost:', gs_results_xgb['best_params'])\n",
    "\n",
    "# Reducción de dimensionalidad (proyección aleatoria)\n",
    "clf_rf.reduce_dimensionality(X_class, method='random_projection', n_components=2)\n",
    "clf_rf.plot_reduced_space(X_class, y_class)"
   ]
  },
  {
   "cell_type": "markdown",
   "id": "34839fac",
   "metadata": {},
   "source": [
    "## Interpretación y Visualización de Resultados\n",
    "\n",
    "En esta sección se muestran ejemplos de interpretación de resultados, visualización de métricas, exportación de predicciones y análisis de importancia de variables."
   ]
  },
  {
   "cell_type": "code",
   "execution_count": null,
   "id": "3f2f702a",
   "metadata": {},
   "outputs": [],
   "source": [
    "# Interpretación y visualización de resultados adicionales\n",
    "# Exportar y_test, y_pred y métricas manuales ya realizado arriba\n",
    "# Mostrar matriz de confusión y métricas\n",
    "import pandas as pd\n",
    "display(pd.read_csv(f'{output_dir}/metrics_manual.csv'))\n",
    "import matplotlib.pyplot as plt\n",
    "import matplotlib.image as mpimg\n",
    "img = mpimg.imread(f'{output_dir}/confusion_matrix.png')\n",
    "plt.imshow(img)\n",
    "plt.axis('off')\n",
    "plt.show()\n",
    "# Importancia de variables\n",
    "img2 = mpimg.imread(f'{output_dir}/feature_importances.png')\n",
    "plt.imshow(img2)\n",
    "plt.axis('off')\n",
    "plt.show()"
   ]
  },
  {
   "cell_type": "markdown",
   "id": "6e4cacb3",
   "metadata": {},
   "source": [
    "## Validación y anexos para artículo científico\n",
    "\n",
    "A continuación se muestran ejemplos de cómo validar outputs y preparar anexos para la documentación científica, incluyendo la exportación de predicciones, métricas y visualizaciones clave generadas por el pipeline."
   ]
  },
  {
   "cell_type": "code",
   "execution_count": null,
   "id": "8f959fb2",
   "metadata": {},
   "outputs": [],
   "source": [
    "# Validación de outputs y generación de anexos para el artículo científico\n",
    "\n",
    "import pandas as pd\n",
    "import matplotlib.pyplot as plt\n",
    "import matplotlib.image as mpimg\n",
    "\n",
    "# Cargar y mostrar las predicciones y métricas exportadas\n",
    "y_pred_df = pd.read_csv(f'{output_dir}/y_test_y_pred.csv')\n",
    "metrics_manual = pd.read_csv(f'{output_dir}/metrics_manual.csv')\n",
    "print(\"Primeras filas de y_test vs y_pred:\")\n",
    "display(y_pred_df.head())\n",
    "print(\"Métricas manuales calculadas:\")\n",
    "display(metrics_manual)\n",
    "\n",
    "# Visualizar matriz de confusión y guardar como anexo\n",
    "img_cm = mpimg.imread(f'{output_dir}/confusion_matrix.png')\n",
    "plt.figure(figsize=(5,4))\n",
    "plt.imshow(img_cm)\n",
    "plt.axis('off')\n",
    "plt.title('Matriz de Confusión (Anexo)')\n",
    "plt.show()\n",
    "\n",
    "# Visualizar importancia de variables y guardar como anexo\n",
    "img_fi = mpimg.imread(f'{output_dir}/feature_importances.png')\n",
    "plt.figure(figsize=(10,6))\n",
    "plt.imshow(img_fi)\n",
    "plt.axis('off')\n",
    "plt.title('Importancia de Variables (Anexo)')\n",
    "plt.show()\n",
    "\n",
    "# Nota: Puedes adjuntar los archivos CSV y PNG generados en la carpeta results/ como anexos en tu artículo."
   ]
  },
  {
   "cell_type": "markdown",
   "id": "7d8da97b",
   "metadata": {},
   "source": [
    "## Checklist de reproducibilidad y validación final\n",
    "\n",
    "- [ ] El entorno se puede instalar con `pip install -r requirements.txt` sin errores.\n",
    "- [ ] La configuración de conexión a MySQL está documentada y es clara (`config/settings.py`).\n",
    "- [ ] El pipeline se ejecuta correctamente desde terminal con `python src/oulad_pipeline.py`.\n",
    "- [ ] Todos los archivos de resultados (`metrics_manual.csv`, `y_test_y_pred.csv`, `confusion_matrix.png`, etc.) se generan en la carpeta `results/`.\n",
    "- [ ] Los archivos exportados son legibles y adecuados para anexos científicos.\n",
    "- [ ] El código está modularizado y documentado para facilitar su uso y extensión.\n",
    "- [ ] El flujo OSEMN está cubierto de inicio a fin.\n",
    "\n",
    "> Marca cada punto al validar en un entorno limpio o al preparar la entrega/académica."
   ]
  },
  {
   "cell_type": "markdown",
   "id": "69e5acfa",
   "metadata": {},
   "source": [
    "## Visualizaciones avanzadas: Curva ROC, SHAP y análisis de errores\n",
    "\n",
    "En esta sección se muestran ejemplos de visualización avanzada para interpretación y análisis de modelos:\n",
    "- Curva ROC para clasificación binaria\n",
    "- Interpretabilidad con SHAP (modelos de árbol)\n",
    "- Análisis de errores (matriz de confusión normalizada)\n"
   ]
  },
  {
   "cell_type": "code",
   "execution_count": null,
   "id": "08d4372b",
   "metadata": {},
   "outputs": [],
   "source": [
    "# Curva ROC para clasificación binaria\n",
    "from sklearn.metrics import roc_curve, auc, RocCurveDisplay\n",
    "import matplotlib.pyplot as plt\n",
    "\n",
    "if 'y_test' in locals() and 'y_pred' in locals():\n",
    "    if hasattr(pipe.named_steps['classifier'], \"predict_proba\"):\n",
    "        y_score = pipe.named_steps['classifier'].predict_proba(X_test)[:,1]\n",
    "    else:\n",
    "        y_score = pipe.decision_function(X_test)\n",
    "    fpr, tpr, _ = roc_curve(y_test, y_score)\n",
    "    roc_auc = auc(fpr, tpr)\n",
    "    plt.figure()\n",
    "    plt.plot(fpr, tpr, color='darkorange', lw=2, label=f'ROC curve (AUC = {roc_auc:.2f})')\n",
    "    plt.plot([0, 1], [0, 1], color='navy', lw=2, linestyle='--')\n",
    "    plt.xlabel('False Positive Rate')\n",
    "    plt.ylabel('True Positive Rate')\n",
    "    plt.title('Curva ROC')\n",
    "    plt.legend(loc=\"lower right\")\n",
    "    plt.show()\n",
    "\n",
    "# Interpretabilidad con SHAP (solo para modelos de árbol)\n",
    "try:\n",
    "    import shap\n",
    "    explainer = shap.TreeExplainer(pipe.named_steps['classifier'])\n",
    "    shap_values = explainer.shap_values(X_test)\n",
    "    shap.summary_plot(shap_values, X_test, plot_type=\"bar\")\n",
    "    shap.summary_plot(shap_values, X_test)\n",
    "except Exception as e:\n",
    "    print(\"SHAP no disponible o el modelo no es compatible:\", e)\n",
    "\n",
    "# Matriz de confusión normalizada\n",
    "from sklearn.metrics import ConfusionMatrixDisplay\n",
    "ConfusionMatrixDisplay.from_estimator(pipe, X_test, y_test, normalize='true', cmap='Blues')\n",
    "plt.title('Matriz de confusión normalizada')\n",
    "plt.show()\n"
   ]
  },
  {
   "cell_type": "code",
   "execution_count": null,
   "id": "5012097f",
   "metadata": {},
   "outputs": [],
   "source": [
    "# Visualización y ranking de importancia de variables\n",
    "import os\n",
    "import matplotlib.pyplot as plt\n",
    "import matplotlib.image as mpimg\n",
    "\n",
    "# Mostrar gráfico si existe\n",
    "feature_importances_path = '../results/feature_importances.png'\n",
    "if os.path.exists(feature_importances_path):\n",
    "    img = mpimg.imread(feature_importances_path)\n",
    "    plt.figure(figsize=(10,6))\n",
    "    plt.imshow(img)\n",
    "    plt.axis('off')\n",
    "    plt.title('Importancia de variables (RandomForest)')\n",
    "    plt.show()\n",
    "else:\n",
    "    print('No se encontró la imagen feature_importances.png. Mostrando ranking textual:')\n",
    "    if hasattr(pipe.named_steps['classifier'], 'feature_importances_'):\n",
    "        importances = pipe.named_steps['classifier'].feature_importances_\n",
    "        indices = importances.argsort()[::-1]\n",
    "        for i in indices:\n",
    "            print(f\"{X_class.columns[i]}: {importances[i]:.4f}\")\n",
    "    else:\n",
    "        print('El modelo no tiene el atributo feature_importances_. Usa un modelo de árbol para obtener importancias.')\n"
   ]
  },
  {
   "cell_type": "code",
   "execution_count": null,
   "id": "3d23492c",
   "metadata": {},
   "outputs": [],
   "source": [
    "\n",
    "from preprocess import split_code_presentation\n",
    "from eda import plot_outliers\n"
   ]
  },
  {
   "cell_type": "code",
   "execution_count": null,
   "id": "3fa579d0",
   "metadata": {},
   "outputs": [],
   "source": [
    "\n",
    "# Aplicar descomposición de fechas\n",
    "df = split_code_presentation(df)\n",
    "\n",
    "# Graficar outliers de columnas clave\n",
    "plot_outliers(df, columns=['studied_credits', 'score', 'final_score'])\n"
   ]
  },
  {
   "cell_type": "markdown",
   "id": "b43c745b",
   "metadata": {},
   "source": [
    "### 🔍 Matriz de Confusión"
   ]
  },
  {
   "cell_type": "code",
   "execution_count": null,
   "id": "4010fc54",
   "metadata": {},
   "outputs": [],
   "source": [
    "from IPython.display import Image\n",
    "Image('results/confusion_matrix.png')"
   ]
  },
  {
   "cell_type": "markdown",
   "id": "3b6abe3e",
   "metadata": {},
   "source": [
    "### 📊 Importancia de Variables"
   ]
  },
  {
   "cell_type": "code",
   "execution_count": null,
   "id": "539322dc",
   "metadata": {},
   "outputs": [],
   "source": [
    "Image('results/feature_importances.png')"
   ]
  },
  {
   "cell_type": "markdown",
   "id": "fd292f9a",
   "metadata": {},
   "source": [
    "### 📦 Boxplots de Variables Numéricas"
   ]
  },
  {
   "cell_type": "code",
   "execution_count": null,
   "id": "09049cb4",
   "metadata": {},
   "outputs": [],
   "source": [
    "Image('results/boxplot_sum_click.png')\n",
    "Image('results/boxplot_date.png')\n",
    "Image('results/boxplot_id_site.png')"
   ]
  },
  {
   "cell_type": "code",
   "execution_count": null,
   "id": "b287f9e4",
   "metadata": {},
   "outputs": [],
   "source": [
    "Image('results/boxplot_id_student.png')\n",
    "Image('results/boxplot_code_module.png')\n",
    "Image('results/boxplot_final_result.png')"
   ]
  },
  {
   "cell_type": "code",
   "execution_count": null,
   "id": "2c216902",
   "metadata": {},
   "outputs": [],
   "source": [
    "Image('results/boxplot_semester.png')"
   ]
  },
  {
   "cell_type": "markdown",
   "id": "daeb05a5",
   "metadata": {},
   "source": [
    "### 🔬 Dispersión Variable Binaria vs Objetivo"
   ]
  },
  {
   "cell_type": "code",
   "execution_count": null,
   "id": "b405b096",
   "metadata": {},
   "outputs": [],
   "source": [
    "Image('results/dispersion_FResult02_Withdrawn_vs_final_result.png')"
   ]
  }
 ],
 "metadata": {
  "language_info": {
   "name": "python"
  }
 },
 "nbformat": 4,
 "nbformat_minor": 5
}
